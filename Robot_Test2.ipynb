{
  "nbformat": 4,
  "nbformat_minor": 0,
  "metadata": {
    "colab": {
      "provenance": [],
      "authorship_tag": "ABX9TyPrhNIx8tZYieedcKa3+OJt",
      "include_colab_link": true
    },
    "kernelspec": {
      "name": "python3",
      "display_name": "Python 3"
    },
    "language_info": {
      "name": "python"
    }
  },
  "cells": [
    {
      "cell_type": "markdown",
      "metadata": {
        "id": "view-in-github",
        "colab_type": "text"
      },
      "source": [
        "<a href=\"https://colab.research.google.com/github/sion0507/Robot_simul_code/blob/main/Robot_Test2.ipynb\" target=\"_parent\"><img src=\"https://colab.research.google.com/assets/colab-badge.svg\" alt=\"Open In Colab\"/></a>"
      ]
    },
    {
      "cell_type": "code",
      "execution_count": 3,
      "metadata": {
        "colab": {
          "base_uri": "https://localhost:8080/"
        },
        "id": "oLpU_1VV89YY",
        "outputId": "f6a445c6-2e24-45fe-f888-bc3c8434b742"
      },
      "outputs": [
        {
          "output_type": "stream",
          "name": "stdout",
          "text": [
            "\u001b[2K     \u001b[90m━━━━━━━━━━━━━━━━━━━━━━━━━━━━━━━━━━━━━━━━\u001b[0m \u001b[32m80.5/80.5 MB\u001b[0m \u001b[31m10.2 MB/s\u001b[0m eta \u001b[36m0:00:00\u001b[0m\n",
            "\u001b[?25h  Preparing metadata (setup.py) ... \u001b[?25l\u001b[?25hdone\n",
            "\u001b[2K   \u001b[90m━━━━━━━━━━━━━━━━━━━━━━━━━━━━━━━━━━━━━━━━\u001b[0m \u001b[32m18.1/18.1 MB\u001b[0m \u001b[31m71.7 MB/s\u001b[0m eta \u001b[36m0:00:00\u001b[0m\n",
            "\u001b[2K   \u001b[90m━━━━━━━━━━━━━━━━━━━━━━━━━━━━━━━━━━━━━━━━\u001b[0m \u001b[32m318.7/318.7 kB\u001b[0m \u001b[31m18.3 MB/s\u001b[0m eta \u001b[36m0:00:00\u001b[0m\n",
            "\u001b[2K   \u001b[90m━━━━━━━━━━━━━━━━━━━━━━━━━━━━━━━━━━━━━━━━\u001b[0m \u001b[32m4.5/4.5 MB\u001b[0m \u001b[31m86.6 MB/s\u001b[0m eta \u001b[36m0:00:00\u001b[0m\n",
            "\u001b[2K   \u001b[90m━━━━━━━━━━━━━━━━━━━━━━━━━━━━━━━━━━━━━━━━\u001b[0m \u001b[32m131.2/131.2 kB\u001b[0m \u001b[31m11.7 MB/s\u001b[0m eta \u001b[36m0:00:00\u001b[0m\n",
            "\u001b[?25h  Building wheel for pybullet (setup.py) ... \u001b[?25l\u001b[?25hdone\n",
            "\u001b[31mERROR: pip's dependency resolver does not currently take into account all the packages that are installed. This behaviour is the source of the following dependency conflicts.\n",
            "google-genai 1.34.0 requires websockets<15.1.0,>=13.0.0, but you have websockets 12.0 which is incompatible.\n",
            "dataproc-spark-connect 0.8.3 requires websockets>=14.0, but you have websockets 12.0 which is incompatible.\n",
            "google-adk 1.13.0 requires websockets<16.0.0,>=15.0.1, but you have websockets 12.0 which is incompatible.\n",
            "yfinance 0.2.65 requires websockets>=13.0, but you have websockets 12.0 which is incompatible.\u001b[0m\u001b[31m\n",
            "\u001b[0m"
          ]
        }
      ],
      "source": [
        "!pip -q install pybullet gradio==4.* pillow"
      ]
    },
    {
      "cell_type": "code",
      "source": [
        "# <시뮬레이터 전체 초기화(다시 처음부터 하고싶을때 이 셀부터 실행)>\n",
        "import pybullet as p, pybullet_data\n",
        "\n",
        "p.resetSimulation()              # 모든 바디/환경 삭제          # 시뮬레이션 타임스텝 재설정\n"
      ],
      "metadata": {
        "id": "mD-cBmdlIETk"
      },
      "execution_count": 17,
      "outputs": []
    },
    {
      "cell_type": "code",
      "source": [
        "# 1. 모듈 불러오기 및 로봇 식별 아이디 생성, 기본세팅(중력,시간분할 단위, 데이터 path)\n",
        "import numpy as np\n",
        "import time,math, re, json\n",
        "import gradio as gr\n",
        "from PIL import Image\n",
        "\n",
        "CID= p.connect(p.DIRECT)\n",
        "p.setAdditionalSearchPath(pybullet_data.getDataPath())\n",
        "p.setGravity(0,0,-9.8)\n",
        "dt = 1/120\n",
        "p.setTimeStep(dt)"
      ],
      "metadata": {
        "id": "0TdtZGqt-qoe"
      },
      "execution_count": 18,
      "outputs": []
    },
    {
      "cell_type": "code",
      "source": [
        "# 2. 평면 및 장애물 설정\n",
        "\n",
        "# 2-1) 평면 설정\n",
        "plane_id = p.loadURDF(\"plane.urdf\")\n",
        "\n",
        "# 2-2) 기본 박스 만드는 함수 입력=크기,색깔,위치/출력=블록 아이디(int)\n",
        "def make_box(size=(0.4, 0.4, 0.2), rgba=(0.5,0.5,0.5,1), pos=(1.2,0,0.1)):\n",
        "  half = [s/2 for s in size]\n",
        "  vid = p.createVisualShape(p.GEOM_BOX, halfExtents=half, rgbaColor=rgba)\n",
        "  cid = p.createCollisionShape(p.GEOM_BOX, halfExtents=half)\n",
        "  bid = p.createMultiBody(baseMass=0, baseCollisionShapeIndex=cid, baseVisualShapeIndex=vid, basePosition=pos)\n",
        "  return bid\n",
        "\n",
        "# 2-3) 장애물 생성\n",
        "obstacles = [] #장애물 블록 아이디 리스트\n",
        "obstacles.append(make_box((0.6,0.6,0.4), (0.6,0.6,0.6,1), (1.2,0.0,0.2)))\n",
        "obstacles.append(make_box((0.6,0.6,0.4), (0.6,0.6,0.6,1), (0.5,1.0,0.2)))\n",
        "obstacles.append(make_box((0.6,0.6,0.4), (0.6,0.6,0.6,1), (0.0,-1.0,0.2)))\n",
        "\n",
        "blue_cube_id = make_box((0.3,0.3,0.3), (0.1,0.4,1.0,1), (1.5, 0.8, 0.15)) # 로봇이 최종적으로 찾아갈 대상\n",
        "\n",
        "# 만들어진거 체크\n",
        "body_count=p.getNumBodies()\n",
        "print(body_count)\n"
      ],
      "metadata": {
        "colab": {
          "base_uri": "https://localhost:8080/"
        },
        "id": "Q39JUbjmAreD",
        "outputId": "b170748d-7469-4272-9f21-fea731f27592"
      },
      "execution_count": 19,
      "outputs": [
        {
          "output_type": "stream",
          "name": "stdout",
          "text": [
            "5\n"
          ]
        }
      ]
    },
    {
      "cell_type": "code",
      "source": [
        "# 3. 로봇 본체 만들기(차동구동 근사) + 전방 거리센서(rayTest)\n",
        "\n",
        "\n",
        "# 3-1) 로봇 본체(원통형)\n",
        "#  - 시각형상: createVisualShape(..., length=0.1)\n",
        "#  - 충돌형상: createCollisionShape(..., height=0.1)\n",
        "#    * 주의: visual은 length, collision은 height라는 이름을 쓴다.\n",
        "\n",
        "body_vis = p.createVisualShape(p.GEOM_CYLINDER, radius=0.15, length=0.1, rgbaColor=[0.9,0.1,0.1,1])\n",
        "body_col = p.createCollisionShape(p.GEOM_CYLINDER, radius = 0.15, height = 0.1)\n",
        "robot_id = p.createMultiBody(baseMass = 5, baseCollisionShapeIndex = body_col, baseVisualShapeIndex = body_vis, basePosition=[0.0,0.0,0.1])\n"
      ],
      "metadata": {
        "id": "lQ3NvAQ4HX4R"
      },
      "execution_count": 20,
      "outputs": []
    },
    {
      "cell_type": "code",
      "source": [
        "# 3-2) 로봇 상태 및 동작 정의 클래스\n",
        "import math, numpy as np\n",
        "\n",
        "class Robot:\n",
        "  \"\"\"\n",
        "    단순 차동구동 근사:\n",
        "      - 실제 바퀴/조인트 대신 '선속 v'와 '각속 w'를 시간 dt 동안 적용해 pose를 직접 갱신.\n",
        "      - 전방 거리센서: rayTest로 안전거리(safe_stop_dist) 내에 장애물이 있으면 선속 0으로 강제.\n",
        "    \"\"\""
      ],
      "metadata": {
        "id": "8QrIxFXJJwuG"
      },
      "execution_count": null,
      "outputs": []
    }
  ]
}